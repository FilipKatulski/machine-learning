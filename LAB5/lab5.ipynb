{
 "cells": [
  {
   "attachments": {},
   "cell_type": "markdown",
   "metadata": {},
   "source": [
    "## Lab5\n",
    "\n",
    "Filip Katulski"
   ]
  },
  {
   "cell_type": "code",
   "execution_count": 24,
   "metadata": {},
   "outputs": [],
   "source": [
    "from sklearn.datasets import load_iris\n",
    "from sklearn.model_selection import train_test_split\n",
    "import seaborn as sns\n",
    "import numpy as np\n",
    "import pandas as pd \n",
    "from math import sqrt, exp, pi "
   ]
  },
  {
   "cell_type": "code",
   "execution_count": 22,
   "metadata": {},
   "outputs": [],
   "source": [
    "class NaiveBayesClassifier:\n",
    "    def __init__(self, cls):\n",
    "        self.std_deviation = self.stdev(cls)\n",
    "        self.average = self.mean(cls)\n",
    "        self.variance = self.std_deviation**2 \n",
    "    \n",
    "    def probability(x, avg, variance):\n",
    "        return (exp((x-avg)**2/2*variance))*(1/sqrt(2*pi*variance))\n",
    "\n",
    "    def mean(self, cls):\n",
    "        return sum(cls)/(float(len(cls)))\n",
    "\n",
    "    def stdev(self, cls):\n",
    "        avg = sum(cls)/(float(len(cls)))\n",
    "        variance = sum([(x-avg)**2 for x in cls]) / float(len(cls)-1)\n",
    "        return sqrt(variance)\n",
    "\n"
   ]
  },
  {
   "cell_type": "code",
   "execution_count": 26,
   "metadata": {},
   "outputs": [],
   "source": [
    "X, y = load_iris(return_X_y=True, as_frame=False)\n",
    "X_train, X_test, y_train, y_test = train_test_split(X, y, test_size=0.4)\n",
    "\n",
    "# X_train, X_test, y_train, y_test"
   ]
  },
  {
   "cell_type": "code",
   "execution_count": 23,
   "metadata": {},
   "outputs": [
    {
     "name": "stdout",
     "output_type": "stream",
     "text": [
      "0.3989422804014327\n"
     ]
    }
   ],
   "source": [
    "NBC = NaiveBayesClassifier.probability(1,1,1)\n",
    "print(NBC)"
   ]
  },
  {
   "attachments": {},
   "cell_type": "markdown",
   "metadata": {},
   "source": [
    "K-fold validation jako sposób na validowanie wielokrotnym (K) uruchomieniem.\n"
   ]
  },
  {
   "cell_type": "code",
   "execution_count": null,
   "metadata": {},
   "outputs": [],
   "source": []
  }
 ],
 "metadata": {
  "kernelspec": {
   "display_name": "env",
   "language": "python",
   "name": "python3"
  },
  "language_info": {
   "codemirror_mode": {
    "name": "ipython",
    "version": 3
   },
   "file_extension": ".py",
   "mimetype": "text/x-python",
   "name": "python",
   "nbconvert_exporter": "python",
   "pygments_lexer": "ipython3",
   "version": "3.9.15"
  },
  "orig_nbformat": 4,
  "vscode": {
   "interpreter": {
    "hash": "0f4e115e75834b3640c3ba940ce468eb8c4fe6d47c62ca06ee89b297ba5a8d03"
   }
  }
 },
 "nbformat": 4,
 "nbformat_minor": 2
}
